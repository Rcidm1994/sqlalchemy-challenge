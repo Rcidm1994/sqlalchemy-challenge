{
 "cells": [
  {
   "cell_type": "markdown",
   "metadata": {},
   "source": [
    "# Bonus: Temperature Analysis I"
   ]
  },
  {
   "cell_type": "code",
   "execution_count": 1,
   "metadata": {},
   "outputs": [],
   "source": [
    "import pandas as pd\n",
    "from datetime import datetime as dt"
   ]
  },
  {
   "cell_type": "code",
   "execution_count": 3,
   "metadata": {},
   "outputs": [
    {
     "output_type": "execute_result",
     "data": {
      "text/plain": [
       "       station        date  prcp  tobs\n",
       "0  USC00519397  2010-01-01  0.08    65\n",
       "1  USC00519397  2010-01-02  0.00    63\n",
       "2  USC00519397  2010-01-03  0.00    74\n",
       "3  USC00519397  2010-01-04  0.00    76\n",
       "4  USC00519397  2010-01-06   NaN    73"
      ],
      "text/html": "<div>\n<style scoped>\n    .dataframe tbody tr th:only-of-type {\n        vertical-align: middle;\n    }\n\n    .dataframe tbody tr th {\n        vertical-align: top;\n    }\n\n    .dataframe thead th {\n        text-align: right;\n    }\n</style>\n<table border=\"1\" class=\"dataframe\">\n  <thead>\n    <tr style=\"text-align: right;\">\n      <th></th>\n      <th>station</th>\n      <th>date</th>\n      <th>prcp</th>\n      <th>tobs</th>\n    </tr>\n  </thead>\n  <tbody>\n    <tr>\n      <th>0</th>\n      <td>USC00519397</td>\n      <td>2010-01-01</td>\n      <td>0.08</td>\n      <td>65</td>\n    </tr>\n    <tr>\n      <th>1</th>\n      <td>USC00519397</td>\n      <td>2010-01-02</td>\n      <td>0.00</td>\n      <td>63</td>\n    </tr>\n    <tr>\n      <th>2</th>\n      <td>USC00519397</td>\n      <td>2010-01-03</td>\n      <td>0.00</td>\n      <td>74</td>\n    </tr>\n    <tr>\n      <th>3</th>\n      <td>USC00519397</td>\n      <td>2010-01-04</td>\n      <td>0.00</td>\n      <td>76</td>\n    </tr>\n    <tr>\n      <th>4</th>\n      <td>USC00519397</td>\n      <td>2010-01-06</td>\n      <td>NaN</td>\n      <td>73</td>\n    </tr>\n  </tbody>\n</table>\n</div>"
     },
     "metadata": {},
     "execution_count": 3
    }
   ],
   "source": [
    "# \"tobs\" is \"temperature observations\"\n",
    "df = pd.read_csv('Resources/hawaii_measurements.csv')\n",
    "df.head()"
   ]
  },
  {
   "cell_type": "code",
   "execution_count": 5,
   "metadata": {},
   "outputs": [
    {
     "output_type": "execute_result",
     "data": {
      "text/plain": [
       "station            object\n",
       "date       datetime64[ns]\n",
       "prcp              float64\n",
       "tobs               object\n",
       "dtype: object"
      ]
     },
     "metadata": {},
     "execution_count": 5
    }
   ],
   "source": [
    "# Convert the date column format from string to datetime\n",
    "df.loc[:,'date'] = pd.to_datetime(df['date'])\n",
    "df.dtypes"
   ]
  },
  {
   "cell_type": "code",
   "execution_count": 6,
   "metadata": {},
   "outputs": [
    {
     "output_type": "execute_result",
     "data": {
      "text/plain": [
       "                station  prcp tobs\n",
       "date                              \n",
       "2010-01-01  USC00519397  0.08   65\n",
       "2010-01-02  USC00519397  0.00   63\n",
       "2010-01-03  USC00519397  0.00   74\n",
       "2010-01-04  USC00519397  0.00   76\n",
       "2010-01-06  USC00519397   NaN   73\n",
       "...                 ...   ...  ...\n",
       "2017-08-20  USC00516128   NaN   78\n",
       "2017-08-21  USC00516128  0.56   76\n",
       "2017-08-22  USC00516128  0.50   76\n",
       "2017-08-23  USC00516128  0.45   76\n",
       "NaT                 NaN   NaN  NaT\n",
       "\n",
       "[19551 rows x 3 columns]"
      ],
      "text/html": "<div>\n<style scoped>\n    .dataframe tbody tr th:only-of-type {\n        vertical-align: middle;\n    }\n\n    .dataframe tbody tr th {\n        vertical-align: top;\n    }\n\n    .dataframe thead th {\n        text-align: right;\n    }\n</style>\n<table border=\"1\" class=\"dataframe\">\n  <thead>\n    <tr style=\"text-align: right;\">\n      <th></th>\n      <th>station</th>\n      <th>prcp</th>\n      <th>tobs</th>\n    </tr>\n    <tr>\n      <th>date</th>\n      <th></th>\n      <th></th>\n      <th></th>\n    </tr>\n  </thead>\n  <tbody>\n    <tr>\n      <th>2010-01-01</th>\n      <td>USC00519397</td>\n      <td>0.08</td>\n      <td>65</td>\n    </tr>\n    <tr>\n      <th>2010-01-02</th>\n      <td>USC00519397</td>\n      <td>0.00</td>\n      <td>63</td>\n    </tr>\n    <tr>\n      <th>2010-01-03</th>\n      <td>USC00519397</td>\n      <td>0.00</td>\n      <td>74</td>\n    </tr>\n    <tr>\n      <th>2010-01-04</th>\n      <td>USC00519397</td>\n      <td>0.00</td>\n      <td>76</td>\n    </tr>\n    <tr>\n      <th>2010-01-06</th>\n      <td>USC00519397</td>\n      <td>NaN</td>\n      <td>73</td>\n    </tr>\n    <tr>\n      <th>...</th>\n      <td>...</td>\n      <td>...</td>\n      <td>...</td>\n    </tr>\n    <tr>\n      <th>2017-08-20</th>\n      <td>USC00516128</td>\n      <td>NaN</td>\n      <td>78</td>\n    </tr>\n    <tr>\n      <th>2017-08-21</th>\n      <td>USC00516128</td>\n      <td>0.56</td>\n      <td>76</td>\n    </tr>\n    <tr>\n      <th>2017-08-22</th>\n      <td>USC00516128</td>\n      <td>0.50</td>\n      <td>76</td>\n    </tr>\n    <tr>\n      <th>2017-08-23</th>\n      <td>USC00516128</td>\n      <td>0.45</td>\n      <td>76</td>\n    </tr>\n    <tr>\n      <th>NaT</th>\n      <td>NaN</td>\n      <td>NaN</td>\n      <td>NaT</td>\n    </tr>\n  </tbody>\n</table>\n<p>19551 rows × 3 columns</p>\n</div>"
     },
     "metadata": {},
     "execution_count": 6
    }
   ],
   "source": [
    "# Set the date column as the DataFrame index\n",
    "df = df.set_index('date')\n",
    "df"
   ]
  },
  {
   "cell_type": "code",
   "execution_count": null,
   "metadata": {},
   "outputs": [],
   "source": [
    "# Drop the date column"
   ]
  },
  {
   "cell_type": "markdown",
   "metadata": {},
   "source": [
    "### Compare June and December data across all years "
   ]
  },
  {
   "cell_type": "code",
   "execution_count": 16,
   "metadata": {},
   "outputs": [],
   "source": [
    "from scipy import stats"
   ]
  },
  {
   "cell_type": "code",
   "execution_count": 8,
   "metadata": {},
   "outputs": [
    {
     "output_type": "execute_result",
     "data": {
      "text/plain": [
       "                station  prcp tobs  Month\n",
       "date                                     \n",
       "2010-06-01  USC00519397  0.00   78    6.0\n",
       "2010-06-02  USC00519397  0.01   76    6.0\n",
       "2010-06-03  USC00519397  0.00   78    6.0\n",
       "2010-06-04  USC00519397  0.00   76    6.0\n",
       "2010-06-05  USC00519397  0.00   77    6.0\n",
       "...                 ...   ...  ...    ...\n",
       "2017-06-26  USC00516128  0.02   79    6.0\n",
       "2017-06-27  USC00516128  0.10   74    6.0\n",
       "2017-06-28  USC00516128  0.02   74    6.0\n",
       "2017-06-29  USC00516128  0.04   76    6.0\n",
       "2017-06-30  USC00516128  0.20   75    6.0\n",
       "\n",
       "[3217 rows x 4 columns]"
      ],
      "text/html": "<div>\n<style scoped>\n    .dataframe tbody tr th:only-of-type {\n        vertical-align: middle;\n    }\n\n    .dataframe tbody tr th {\n        vertical-align: top;\n    }\n\n    .dataframe thead th {\n        text-align: right;\n    }\n</style>\n<table border=\"1\" class=\"dataframe\">\n  <thead>\n    <tr style=\"text-align: right;\">\n      <th></th>\n      <th>station</th>\n      <th>prcp</th>\n      <th>tobs</th>\n      <th>Month</th>\n    </tr>\n    <tr>\n      <th>date</th>\n      <th></th>\n      <th></th>\n      <th></th>\n      <th></th>\n    </tr>\n  </thead>\n  <tbody>\n    <tr>\n      <th>2010-06-01</th>\n      <td>USC00519397</td>\n      <td>0.00</td>\n      <td>78</td>\n      <td>6.0</td>\n    </tr>\n    <tr>\n      <th>2010-06-02</th>\n      <td>USC00519397</td>\n      <td>0.01</td>\n      <td>76</td>\n      <td>6.0</td>\n    </tr>\n    <tr>\n      <th>2010-06-03</th>\n      <td>USC00519397</td>\n      <td>0.00</td>\n      <td>78</td>\n      <td>6.0</td>\n    </tr>\n    <tr>\n      <th>2010-06-04</th>\n      <td>USC00519397</td>\n      <td>0.00</td>\n      <td>76</td>\n      <td>6.0</td>\n    </tr>\n    <tr>\n      <th>2010-06-05</th>\n      <td>USC00519397</td>\n      <td>0.00</td>\n      <td>77</td>\n      <td>6.0</td>\n    </tr>\n    <tr>\n      <th>...</th>\n      <td>...</td>\n      <td>...</td>\n      <td>...</td>\n      <td>...</td>\n    </tr>\n    <tr>\n      <th>2017-06-26</th>\n      <td>USC00516128</td>\n      <td>0.02</td>\n      <td>79</td>\n      <td>6.0</td>\n    </tr>\n    <tr>\n      <th>2017-06-27</th>\n      <td>USC00516128</td>\n      <td>0.10</td>\n      <td>74</td>\n      <td>6.0</td>\n    </tr>\n    <tr>\n      <th>2017-06-28</th>\n      <td>USC00516128</td>\n      <td>0.02</td>\n      <td>74</td>\n      <td>6.0</td>\n    </tr>\n    <tr>\n      <th>2017-06-29</th>\n      <td>USC00516128</td>\n      <td>0.04</td>\n      <td>76</td>\n      <td>6.0</td>\n    </tr>\n    <tr>\n      <th>2017-06-30</th>\n      <td>USC00516128</td>\n      <td>0.20</td>\n      <td>75</td>\n      <td>6.0</td>\n    </tr>\n  </tbody>\n</table>\n<p>3217 rows × 4 columns</p>\n</div>"
     },
     "metadata": {},
     "execution_count": 8
    }
   ],
   "source": [
    "# Filter data for desired months\n",
    "df.loc[:,'Month'] = df.index.month\n",
    "df1 = df[(df['Month']==6) | (df['Month']==12)]\n",
    "df1"
   ]
  },
  {
   "cell_type": "code",
   "execution_count": 9,
   "metadata": {},
   "outputs": [
    {
     "output_type": "execute_result",
     "data": {
      "text/plain": [
       "74.94411764705882"
      ]
     },
     "metadata": {},
     "execution_count": 9
    }
   ],
   "source": [
    "# Identify the average temperature for June\n",
    "june = df1[df1['Month']==6]['tobs'].mean()\n",
    "june"
   ]
  },
  {
   "cell_type": "code",
   "execution_count": 12,
   "metadata": {},
   "outputs": [
    {
     "output_type": "execute_result",
     "data": {
      "text/plain": [
       "71.04152933421226"
      ]
     },
     "metadata": {},
     "execution_count": 12
    }
   ],
   "source": [
    "# Identify the average temperature for December\n",
    "dec = df1[df1['Month']==12]['tobs'].mean()\n",
    "dec"
   ]
  },
  {
   "cell_type": "code",
   "execution_count": 20,
   "metadata": {},
   "outputs": [
    {
     "output_type": "execute_result",
     "data": {
      "text/plain": [
       "tobs    int64\n",
       "dtype: object"
      ]
     },
     "metadata": {},
     "execution_count": 20
    }
   ],
   "source": [
    "# Create collections of temperature data\n",
    "jn = df1[df1['Month']==6][['tobs']].astype('int64')\n",
    "dc = df1[df1['Month']==12][['tobs']].astype('int64')\n",
    "dc.dtypes"
   ]
  },
  {
   "cell_type": "code",
   "execution_count": 21,
   "metadata": {},
   "outputs": [
    {
     "output_type": "execute_result",
     "data": {
      "text/plain": [
       "Ttest_indResult(statistic=array([31.60372399]), pvalue=array([3.9025129e-191]))"
      ]
     },
     "metadata": {},
     "execution_count": 21
    }
   ],
   "source": [
    "# Run paired t-test\n",
    "stats.ttest_ind(jn,dc)"
   ]
  },
  {
   "cell_type": "markdown",
   "metadata": {},
   "source": [
    "### Analysis"
   ]
  },
  {
   "cell_type": "code",
   "execution_count": 22,
   "metadata": {},
   "outputs": [
    {
     "output_type": "stream",
     "name": "stdout",
     "text": [
      "Differences are not statistically significant since pvalue is too small\n"
     ]
    }
   ],
   "source": [
    "print(f'Differences are not statistically significant since pvalue is too small')"
   ]
  },
  {
   "cell_type": "code",
   "execution_count": null,
   "metadata": {},
   "outputs": [],
   "source": []
  }
 ],
 "metadata": {
  "kernelspec": {
   "display_name": "Python 3",
   "language": "python",
   "name": "python3"
  },
  "language_info": {
   "codemirror_mode": {
    "name": "ipython",
    "version": 3
   },
   "file_extension": ".py",
   "mimetype": "text/x-python",
   "name": "python",
   "nbconvert_exporter": "python",
   "pygments_lexer": "ipython3",
   "version": "3.8.3"
  }
 },
 "nbformat": 4,
 "nbformat_minor": 4
}